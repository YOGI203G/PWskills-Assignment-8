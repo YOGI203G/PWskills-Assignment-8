{
 "cells": [
  {
   "cell_type": "markdown",
   "id": "900183ab-a61b-4420-a578-7c1e8925c1df",
   "metadata": {},
   "source": [
    "Q1. You are writing code for a company. The requirement of the company is that you create a python\n",
    "function that will check whether the password entered by the user is correct or not. The function should\n",
    "take the password as input and return the string “Valid Password” if the entered password follows the\n",
    "below-given password guidelines else it should return “Invalid Password”.\n",
    "\n",
    "\n",
    "Note: 1. The Password should contain at least two uppercase letters and at least two lowercase letters.\n",
    "\n",
    "2. The Password should contain at least a number and three special characters.\n",
    "\n",
    "3. The length of the password should be 10 characters long."
   ]
  },
  {
   "cell_type": "code",
   "execution_count": 9,
   "id": "8e2a4a38-b072-4e74-ab8f-1aaf59f21a09",
   "metadata": {},
   "outputs": [
    {
     "data": {
      "text/plain": [
       "'Valid Password'"
      ]
     },
     "execution_count": 9,
     "metadata": {},
     "output_type": "execute_result"
    }
   ],
   "source": [
    "from string import punctuation\n",
    "def checkPass(password):\n",
    "    uppercase = 0\n",
    "    lowercase = 0\n",
    "    special_char = 0\n",
    "    number = 0\n",
    "    valid = False\n",
    "    if len(password)>=10:\n",
    "        for i in password:\n",
    "            if i.isupper():\n",
    "                uppercase+=1\n",
    "            if i.islower():\n",
    "                lowercase+=1\n",
    "            if i in punctuation:\n",
    "                special_char+=1\n",
    "            if i.isnumeric():\n",
    "                number+=1\n",
    "        if uppercase>=2 and lowercase>=2 and special_char>=3 and number>=1:\n",
    "            valid=True\n",
    "    else:\n",
    "        valid= False\n",
    "    if valid:\n",
    "        return \"Valid Password\"\n",
    "    else:\n",
    "        return \"Invalid Password\"\n",
    "checkPass(\"$ThisIsSecret$123@\")\n",
    "    \n",
    "\n",
    "        "
   ]
  },
  {
   "cell_type": "markdown",
   "id": "e63bc436-1c7c-4587-a848-41667d659b4b",
   "metadata": {},
   "source": [
    "Q2. Solve the below-given questions using at least one of the following: \n",
    "\n",
    "1. Lambda functioJ\n",
    "2. Filter functioJ\n",
    "3. Zap functioJ\n",
    "4. List ComprehensioI\n",
    "B Check if the string starts with a particular letterY\n",
    "B Check if the string is numericY\n",
    "B Sort a list of tuples having fruit names and their quantity. [(\"mango\",99),(\"orange\",80), (\"grapes\", 1000)-\n",
    "B Find the squares of numbers from 1 to 10Y\n",
    "B Find the cube root of numbers from 1 to 10Y\n",
    "B Check if a given number is evenY\n",
    "B Filter odd numbers from the given list.\n",
    "\n",
    " [1,2,3,4,5,6,7,8,9,10-\n",
    "B Sort a list of integers into positive and negative integers lists.\n",
    "\n",
    " [1,2,3,4,5,6,-1,-2,-3,-4,-5,0]"
   ]
  },
  {
   "cell_type": "code",
   "execution_count": 10,
   "id": "b0c9d47d-5561-4897-a0bb-9e4e1174e9b9",
   "metadata": {},
   "outputs": [
    {
     "data": {
      "text/plain": [
       "True"
      ]
     },
     "execution_count": 10,
     "metadata": {},
     "output_type": "execute_result"
    }
   ],
   "source": [
    "#Check if the string starts with a particular letter\n",
    "\n",
    "def check_string_start(string, start_letter):\n",
    "    return True if string[0] == start_letter else False\n",
    "\n",
    "# Using Lambda function\n",
    "\n",
    "check_string_start_lambda = lambda string, start_letter: True if string[0] == start_letter else False\n",
    "check_string_start(\"Hello\", \"H\")"
   ]
  },
  {
   "cell_type": "code",
   "execution_count": 11,
   "id": "84cef0dd-ac25-4a6b-a30e-fc9a1d33c81c",
   "metadata": {},
   "outputs": [
    {
     "data": {
      "text/plain": [
       "True"
      ]
     },
     "execution_count": 11,
     "metadata": {},
     "output_type": "execute_result"
    }
   ],
   "source": [
    "#Check if the string is numeric\n",
    "\n",
    "def check_string_numeric(string):\n",
    "    return True if string.isdigit() else False\n",
    "\n",
    "# Using Lambda function\n",
    "\n",
    "check_string_numeric_lambda = lambda string: True if string.isdigit() else False\n",
    "check_string_numeric(\"123\")"
   ]
  },
  {
   "cell_type": "code",
   "execution_count": 12,
   "id": "3a16047f-e06c-4303-86f3-a46e265c9046",
   "metadata": {},
   "outputs": [
    {
     "name": "stdout",
     "output_type": "stream",
     "text": [
      "[('orange', 80), ('mango', 99), ('grapes', 1000)]\n",
      "[('orange', 80), ('mango', 99), ('grapes', 1000)]\n"
     ]
    }
   ],
   "source": [
    "#Sort a list of tuples having fruit names and their quantity\n",
    "\n",
    "fruits = [(\"mango\",99),(\"orange\",80), (\"grapes\", 1000)]\n",
    "\n",
    "# Using Lambda function\n",
    "\n",
    "sorted_fruits = sorted(fruits, key=lambda x: x[1])\n",
    "print(sorted_fruits)\n",
    "\n",
    "# Using List Comprehension\n",
    "\n",
    "sorted_fruits_lc = [fruit for fruit in sorted(fruits, key=lambda x: x[1])]\n",
    "print(sorted_fruits_lc)"
   ]
  },
  {
   "cell_type": "code",
   "execution_count": 13,
   "id": "daa64c8b-1a06-4b40-ad10-bb4185696336",
   "metadata": {},
   "outputs": [
    {
     "name": "stdout",
     "output_type": "stream",
     "text": [
      "[1, 4, 9, 16, 25, 36, 49, 64, 81, 100]\n",
      "[1, 4, 9, 16, 25, 36, 49, 64, 81, 100]\n"
     ]
    }
   ],
   "source": [
    "#Find the squares of numbers from 1 to 10\n",
    "\n",
    "# Using Map function\n",
    "\n",
    "squared_numbers = list(map(lambda x: x**2, range(1, 11)))\n",
    "print(squared_numbers)\n",
    "\n",
    "# Using List Comprehension\n",
    "\n",
    "squared_numbers_lc = [x**2 for x in range(1, 11)]\n",
    "print(squared_numbers_lc)"
   ]
  },
  {
   "cell_type": "code",
   "execution_count": 14,
   "id": "6f799e2d-ccb9-4791-b232-65deae900779",
   "metadata": {},
   "outputs": [
    {
     "name": "stdout",
     "output_type": "stream",
     "text": [
      "[1.0, 1.2599210498948732, 1.4422495703074083, 1.5874010519681994, 1.7099759466766968, 1.8171205928321397, 1.912931182772389, 2.0, 2.080083823051904, 2.154434690031884]\n",
      "[1.0, 1.2599210498948732, 1.4422495703074083, 1.5874010519681994, 1.7099759466766968, 1.8171205928321397, 1.912931182772389, 2.0, 2.080083823051904, 2.154434690031884]\n"
     ]
    }
   ],
   "source": [
    "#Find the cube root of numbers from 1 to 10\n",
    "\n",
    "# Using Map function\n",
    "\n",
    "cuberoot_numbers = list(map(lambda x: x**(1/3), range(1, 11)))\n",
    "print(cuberoot_numbers)\n",
    "\n",
    "# Using List Comprehension\n",
    "\n",
    "cuberoot_numbers_lc = [x**(1/3) for x in range(1, 11)]\n",
    "print(cuberoot_numbers_lc)"
   ]
  },
  {
   "cell_type": "code",
   "execution_count": 15,
   "id": "1c812ce3-5b60-410e-ae6a-d6935716809e",
   "metadata": {},
   "outputs": [
    {
     "name": "stdout",
     "output_type": "stream",
     "text": [
      "True\n"
     ]
    }
   ],
   "source": [
    "#Check if a given number is even\n",
    "\n",
    "# Using Lambda function\n",
    "\n",
    "is_even_lambda = lambda number: True if number % 2 == 0 else False\n",
    "print(is_even_lambda(6))"
   ]
  },
  {
   "cell_type": "code",
   "execution_count": 16,
   "id": "14f4280f-e13a-4c3a-8ab1-d5a22b64a2a6",
   "metadata": {},
   "outputs": [
    {
     "name": "stdout",
     "output_type": "stream",
     "text": [
      "[1, 3, 5, 7, 9]\n"
     ]
    }
   ],
   "source": [
    "#Filter odd numbers from the given list\n",
    "\n",
    "numbers = [1,2,3,4,5,6,7,8,9,10]\n",
    "\n",
    "# Using Filter function\n",
    "\n",
    "odd_numbers = list(filter(lambda x: x % 2 != 0, numbers))\n",
    "print(odd_numbers)"
   ]
  },
  {
   "cell_type": "code",
   "execution_count": 17,
   "id": "1d652955-dc6d-4db6-b457-fc9af72bc74c",
   "metadata": {},
   "outputs": [
    {
     "name": "stdout",
     "output_type": "stream",
     "text": [
      "[1, 2, 3, 4, 5, 6]\n",
      "[-1, -2, -3, -4, -5]\n"
     ]
    }
   ],
   "source": [
    "#Sort a list of integers into positive and negative integers lists\n",
    "\n",
    "numbers = [1,2,3,4,5,6,-1,-2,-3,-4,-5,0]\n",
    "\n",
    "# Using List Comprehension\n",
    "\n",
    "positive_numbers = [x for x in numbers if x > 0]\n",
    "negative_numbers = [x for x in numbers if x < 0]\n",
    "print(positive_numbers)\n",
    "print(negative_numbers)"
   ]
  },
  {
   "cell_type": "code",
   "execution_count": null,
   "id": "5aea5b60-32d9-49de-99ea-04ad2bd0f9bd",
   "metadata": {},
   "outputs": [],
   "source": []
  }
 ],
 "metadata": {
  "kernelspec": {
   "display_name": "Python 3 (ipykernel)",
   "language": "python",
   "name": "python3"
  },
  "language_info": {
   "codemirror_mode": {
    "name": "ipython",
    "version": 3
   },
   "file_extension": ".py",
   "mimetype": "text/x-python",
   "name": "python",
   "nbconvert_exporter": "python",
   "pygments_lexer": "ipython3",
   "version": "3.10.8"
  }
 },
 "nbformat": 4,
 "nbformat_minor": 5
}
